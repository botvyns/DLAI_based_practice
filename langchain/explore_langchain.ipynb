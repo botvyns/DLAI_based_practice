{
 "cells": [
  {
   "cell_type": "markdown",
   "metadata": {
    "id": "DcnbZTSKdUnq"
   },
   "source": [
    "# **Exploring LangChain with texts written on [Neformat](https://www.neformat.com.ua/)**\n",
    "## **Main ideas are from [DeepLearningAI](https://learn.deeplearning.ai/courses/langchain-chat-with-your-data/lesson/5/retrieval)**"
   ]
  },
  {
   "cell_type": "markdown",
   "metadata": {
    "id": "wMKDmyLidKhD"
   },
   "source": [
    "## **Setup**"
   ]
  },
  {
   "cell_type": "code",
   "execution_count": 1,
   "metadata": {
    "id": "yTk2tQdtDq56"
   },
   "outputs": [],
   "source": [
    "%%capture\n",
    "!pip install openai\n",
    "!pip install chromadb\n",
    "!pip install tiktoken\n",
    "!pip install lark"
   ]
  },
  {
   "cell_type": "code",
   "execution_count": 26,
   "metadata": {
    "id": "8EnlgbLmO3oG"
   },
   "outputs": [],
   "source": [
    "import warnings\n",
    "warnings.filterwarnings(\"ignore\", category=UserWarning)"
   ]
  },
  {
   "cell_type": "code",
   "execution_count": 2,
   "metadata": {
    "id": "sdlmmtQC_84_"
   },
   "outputs": [],
   "source": [
    "import os\n",
    "from google.colab import userdata\n",
    "import openai\n",
    "import sys\n",
    "sys.path.append('../..')\n",
    "\n",
    "openai.api_key  = userdata.get('OPENAI_API_KEY')"
   ]
  },
  {
   "cell_type": "code",
   "execution_count": 46,
   "metadata": {
    "id": "5gvUg5FeAe3y"
   },
   "outputs": [],
   "source": [
    "from langchain.document_loaders import WebBaseLoader\n",
    "from langchain.text_splitter import CharacterTextSplitter, RecursiveCharacterTextSplitter\n",
    "from langchain.vectorstores import Chroma\n",
    "from langchain.embeddings.openai import OpenAIEmbeddings\n",
    "from langchain.llms import OpenAI\n",
    "from langchain.retrievers.self_query.base import SelfQueryRetriever\n",
    "from langchain.chains.query_constructor.base import AttributeInfo\n",
    "from langchain.retrievers import ContextualCompressionRetriever\n",
    "from langchain.retrievers.document_compressors import LLMChainExtractor\n",
    "from langchain.retrievers import SVMRetriever\n",
    "from langchain.retrievers import TFIDFRetriever\n",
    "from langchain.chains import RetrievalQA\n",
    "from langchain.prompts import PromptTemplate\n",
    "from langchain.chat_models import ChatOpenAI\n",
    "from langchain.memory import ConversationBufferMemory\n",
    "from langchain.chains import ConversationalRetrievalChain\n",
    "import re\n",
    "import lark"
   ]
  },
  {
   "cell_type": "markdown",
   "metadata": {
    "id": "B9m1VJlHEQzo"
   },
   "source": [
    "## **Document Loading**"
   ]
  },
  {
   "cell_type": "code",
   "execution_count": 4,
   "metadata": {
    "id": "c8K92xp-AjRO"
   },
   "outputs": [],
   "source": [
    "links = [\n",
    "    \"https://www.neformat.com.ua/articles/indastrial-ta-ukrayina-istoriya-shcho-trivaie.html\",\n",
    "    \"https://www.neformat.com.ua/articles/darkfolk-in-ukraine.html\",\n",
    "    \"https://www.neformat.com.ua/articles/istoriya-ukrayinskogo-neofolku-v-kilkokh-slovakh.html\"\n",
    "                           ]\n",
    "\n",
    "loaders = [WebBaseLoader(link) for link in links]\n",
    "\n",
    "docs = []\n",
    "for loader in loaders:\n",
    "    docs.extend(loader.load())"
   ]
  },
  {
   "cell_type": "markdown",
   "metadata": {
    "id": "tHaYnwCpEWt8"
   },
   "source": [
    "## **Document Splitting**"
   ]
  },
  {
   "cell_type": "code",
   "execution_count": 5,
   "metadata": {
    "id": "rWzv8Q5nAnNn"
   },
   "outputs": [],
   "source": [
    "def receive_main_text(documents):\n",
    "    doc_main_body = []\n",
    "    for doc in documents:\n",
    "        header_start = doc.page_content.split('Підтримати')[-1].split('Neformat.com.ua ©')[0]\n",
    "        up_to_site_mention = re.sub(r'\\xa0|&a|quot;|lt;|amp;', '\\n', header_start).strip()\n",
    "        up_to_site_mention = up_to_site_mention.replace(\"\\n \", \"\").replace(\" \\n\", \"\")\n",
    "        up_to_site_mention = re.sub(r'[\\t\\r\\f]+', ' ', up_to_site_mention)\n",
    "        normalised = re.sub(r'\\n{2,}', '\\n\\n', up_to_site_mention)\n",
    "        doc.page_content = normalised\n",
    "        doc_main_body.append(doc)\n",
    "    return doc_main_body\n",
    "\n",
    "\n",
    "main_body = receive_main_text(docs)"
   ]
  },
  {
   "cell_type": "code",
   "execution_count": 6,
   "metadata": {
    "colab": {
     "base_uri": "https://localhost:8080/",
     "height": 71
    },
    "id": "H-xvIzqfEdXl",
    "outputId": "cbb76d83-5f04-4fd9-9a4a-0ec2bca41b19"
   },
   "outputs": [
    {
     "data": {
      "application/vnd.google.colaboratory.intrinsic+json": {
       "type": "string"
      },
      "text/plain": [
       "'Індастріал та Україна — історія, що триває\\n\\n31.05.2023\\n\\nВадим Олійников\\n\\nУсе про витоки індустріальної музики, її філософію та знакових закордонних і українських представників.\\nВзаємопроникнення естетичних кліше та мистецьких практик, загальні уявлення про які має навіть пересічний меломан, створили дуже широкий музичний жанр, до якого можна віднести як гурти, що грають важку гітарну музику, так і музикантів з електронної клубної сцени, й авангардних артистів, що для створення музики взагалі не '"
      ]
     },
     "execution_count": 6,
     "metadata": {},
     "output_type": "execute_result"
    }
   ],
   "source": [
    "main_body[0].page_content[:500]"
   ]
  },
  {
   "cell_type": "code",
   "execution_count": 7,
   "metadata": {
    "colab": {
     "base_uri": "https://localhost:8080/"
    },
    "id": "mfun4GOcEfSx",
    "outputId": "8892ca15-b8cc-4d75-aa9d-15e8f964ee0f"
   },
   "outputs": [
    {
     "data": {
      "text/plain": [
       "262"
      ]
     },
     "execution_count": 7,
     "metadata": {},
     "output_type": "execute_result"
    }
   ],
   "source": [
    "r_splitter = RecursiveCharacterTextSplitter(\n",
    "    chunk_size=300,\n",
    "    chunk_overlap=25,\n",
    "    separators=[\"\\n\\n\", \"\\n\", \"(?<=\\. )\", \" \", \"\"],\n",
    "    length_function=len\n",
    ")\n",
    "\n",
    "splits = r_splitter.split_documents(main_body)\n",
    "\n",
    "len(splits)"
   ]
  },
  {
   "cell_type": "code",
   "execution_count": 8,
   "metadata": {
    "colab": {
     "base_uri": "https://localhost:8080/"
    },
    "id": "BcAYGmVZEj03",
    "outputId": "8988fb3e-0b6f-4447-a764-76a9ab78b387"
   },
   "outputs": [
    {
     "name": "stdout",
     "output_type": "stream",
     "text": [
      "Індастріал та Україна — історія, що триває\n",
      "\n",
      "31.05.2023\n",
      "\n",
      "Вадим Олійников\n",
      "\n",
      "Усе про витоки індустріальної музики, її філософію та знакових закордонних і українських представників.\n",
      "\n",
      "Взаємопроникнення естетичних кліше та мистецьких практик, загальні уявлення про які має навіть пересічний меломан, створили дуже широкий музичний жанр, до якого можна віднести як гурти, що грають важку гітарну музику, так і музикантів з електронної клубної сцени, й авангардних артистів, що для\n",
      "\n",
      "артистів, що для створення музики взагалі не користуються інструментами, які прийнято називати музичними.\n",
      "\n",
      "\"Люди часто помиляються у тому, що таке індастріал насправді. Для мене індастріал — це нічого не робити зі звуком промислового процесу, брязкітливі ритми й ламані металеві звуки так само нудні, як і звичайна рок-музика\", — Пітер Крістоферсон\n",
      "\n"
     ]
    }
   ],
   "source": [
    "for split in splits[:5]:\n",
    "    print(split.page_content, end=\"\\n\\n\")"
   ]
  },
  {
   "cell_type": "markdown",
   "metadata": {
    "id": "u8s39Qv2EtfO"
   },
   "source": [
    "## **Vectorstores and Embeddings**"
   ]
  },
  {
   "cell_type": "code",
   "execution_count": 9,
   "metadata": {
    "colab": {
     "base_uri": "https://localhost:8080/"
    },
    "id": "DW4rma0dAqvt",
    "outputId": "865c94d2-ed45-4df1-c15d-ce86b0a8c833"
   },
   "outputs": [
    {
     "name": "stderr",
     "output_type": "stream",
     "text": [
      "/usr/local/lib/python3.10/dist-packages/langchain_core/_api/deprecation.py:117: LangChainDeprecationWarning: The class `langchain_community.embeddings.openai.OpenAIEmbeddings` was deprecated in langchain-community 0.0.9 and will be removed in 0.2.0. An updated version of the class exists in the langchain-openai package and should be used instead. To use it run `pip install -U langchain-openai` and import as `from langchain_openai import OpenAIEmbeddings`.\n",
      "  warn_deprecated(\n"
     ]
    }
   ],
   "source": [
    "persist_directory = 'docs/chroma/'\n",
    "embedding = OpenAIEmbeddings(api_key=userdata.get('OPENAI_API_KEY'))"
   ]
  },
  {
   "cell_type": "code",
   "execution_count": 10,
   "metadata": {
    "id": "csqhMq_LIH-y"
   },
   "outputs": [],
   "source": [
    "!rm -rf ./docs/chroma  # remove old database files if any"
   ]
  },
  {
   "cell_type": "code",
   "execution_count": 11,
   "metadata": {
    "colab": {
     "base_uri": "https://localhost:8080/"
    },
    "id": "88DQfN2mIFm4",
    "outputId": "3c956495-3373-4f76-ea89-7dd053f39073"
   },
   "outputs": [
    {
     "name": "stdout",
     "output_type": "stream",
     "text": [
      "262\n"
     ]
    }
   ],
   "source": [
    "vectordb = Chroma.from_documents(\n",
    "    documents=splits,\n",
    "    embedding=embedding,\n",
    "    persist_directory=persist_directory\n",
    ")\n",
    "\n",
    "print(vectordb._collection.count())"
   ]
  },
  {
   "cell_type": "markdown",
   "metadata": {
    "id": "wWuJFMAHIuL9"
   },
   "source": [
    "### **Similarity Search**"
   ]
  },
  {
   "cell_type": "code",
   "execution_count": 12,
   "metadata": {
    "colab": {
     "base_uri": "https://localhost:8080/"
    },
    "id": "U24oyuoGAuTz",
    "outputId": "85a0c81e-cd91-4c38-8b7d-77ef98dac41a"
   },
   "outputs": [
    {
     "name": "stdout",
     "output_type": "stream",
     "text": [
      "Найчастіше гурт Nекраїна згадують у контексті альбому 2002 року \"Смерть у Серпні\", що є в загальному сенсі збіркою українськомовних каверів на Death in June (реліз вийшов за особистої згоди Дугласа Пірса), але Чарський не просто переклав пісні Пірса, він їх інтерпретував, інтегрував в українську\n",
      "\n",
      "Проект Nекраїна одесита Георгія Чарського знає, напевно, кожен любитель українського неофолку. З'явився він у 1996 році, а у 2009 році припинив своє існування. Nекраїна стала популярною завдяки своїм переспівам пісень Death in June. Чарський не просто перекладав, він обігравав тексти Пірса, додаючи\n",
      "\n"
     ]
    }
   ],
   "source": [
    "question = \"гурти схожі на Death in June\"\n",
    "\n",
    "for result in vectordb.similarity_search(question, k=2):\n",
    "    print(result.page_content, end=\"\\n\\n\")"
   ]
  },
  {
   "cell_type": "markdown",
   "metadata": {
    "id": "WA3KXAcaI0rz"
   },
   "source": [
    "### **Q: When similarity search fails?**\n",
    "\n",
    "A: It searches for similar documents but does not enforce diversity (e.g. when we have duplicatesi in our documents. In addition, is doest not takes into account the source"
   ]
  },
  {
   "cell_type": "markdown",
   "metadata": {
    "id": "fVWAWbFNJI_X"
   },
   "source": [
    "### **Maximum marginal relevance**\n",
    "\n",
    "Q: Benefits?\n",
    "\n",
    "A: strives to achieve both relevance to the query *and diversity* among the results."
   ]
  },
  {
   "cell_type": "code",
   "execution_count": 13,
   "metadata": {
    "colab": {
     "base_uri": "https://localhost:8080/"
    },
    "id": "XVivYSJVdFIJ",
    "outputId": "df07d575-4755-4f43-f02f-14bedc726c7f"
   },
   "outputs": [
    {
     "name": "stdout",
     "output_type": "stream",
     "text": [
      "Найчастіше гурт Nекраїна згадують у контексті альбому 2002 року \"Смерть у Серпні\", що є в загальному сенсі збіркою українськомовних каверів на Death in June (реліз вийшов за особистої згоди Дугласа Пірса), але Чарський не просто переклав пісні Пірса, він їх інтерпретував, інтегрував в українську\n",
      "\n",
      "Значно цікавішими є два останні альбоми гурту — \"Апокаліцтва\" 2002 року, та \"Страшные песни о страшном\". На альбомі \"Апокаліцтва\" все ще присутні дарк фолк елементи, а головна пісня цього релізу — також омаж на пісню Death in June \"He's Disabled\". Але музично це вже суто індустріальний\n",
      "\n",
      "Якщо Death in June — це пісні про актуальне, Current 93 — це пісні про головне, то Sol Invictus — це пісні про минуле. Якраз нашим Тоні Уейкфордом і став Сергій Гололобов із Миколаєва. Без мінімального знання історії слухач, імовірно, не зрозуміє приколу його пісень, а може й біля скроні покрутити\n",
      "\n"
     ]
    }
   ],
   "source": [
    "question = \"гурти схожі на Death in June\"\n",
    "\n",
    "for result in vectordb.max_marginal_relevance_search(question, k=3, fetch_k=5):\n",
    "    print(result.page_content, end=\"\\n\\n\")"
   ]
  },
  {
   "cell_type": "markdown",
   "metadata": {
    "id": "8BtDeFmyKCsE"
   },
   "source": [
    "### **Metadata**\n",
    "\n",
    "Q: How we can focus on specificity and not only on the relevance?\n",
    "\n",
    "A: use `metadata` to provide context + `SelfQueryRetriever`"
   ]
  },
  {
   "cell_type": "code",
   "execution_count": 14,
   "metadata": {
    "colab": {
     "base_uri": "https://localhost:8080/"
    },
    "id": "NDfsrhVWJi9_",
    "outputId": "6a74f032-8e62-44fd-d3fc-69f622003cda"
   },
   "outputs": [
    {
     "name": "stdout",
     "output_type": "stream",
     "text": [
      "{'description': 'Онлайн медіа про українську сцену та музику, переважно андеграунд. Новини, анонси, рецензії та тематичні публікації, аналітика, ретроспективи, довідник по жанрах.', 'language': 'uk', 'source': 'https://www.neformat.com.ua/articles/darkfolk-in-ukraine.html', 'title': '10 знакових гуртів в українському дарк фолку  | neformat'}\n",
      "{'description': 'Онлайн медіа про українську сцену та музику, переважно андеграунд. Новини, анонси, рецензії та тематичні публікації, аналітика, ретроспективи, довідник по жанрах.', 'language': 'uk', 'source': 'https://www.neformat.com.ua/articles/istoriya-ukrayinskogo-neofolku-v-kilkokh-slovakh.html', 'title': 'Історія українського неофолку в кількох словах  | neformat'}\n",
      "{'description': 'Онлайн медіа про українську сцену та музику, переважно андеграунд. Новини, анонси, рецензії та тематичні публікації, аналітика, ретроспективи, довідник по жанрах.', 'language': 'uk', 'source': 'https://www.neformat.com.ua/articles/darkfolk-in-ukraine.html', 'title': '10 знакових гуртів в українському дарк фолку  | neformat'}\n"
     ]
    }
   ],
   "source": [
    "question = \"Про що співає гурт Вій?\"\n",
    "\n",
    "docs = vectordb.similarity_search(\n",
    "    question,\n",
    "    k=3\n",
    ")\n",
    "\n",
    "for d in docs:\n",
    "    print(d.metadata)"
   ]
  },
  {
   "cell_type": "code",
   "execution_count": 15,
   "metadata": {
    "colab": {
     "base_uri": "https://localhost:8080/"
    },
    "id": "J3gEePAmKhNn",
    "outputId": "7b03164a-3ee2-45fa-f4f3-e92a37f96393"
   },
   "outputs": [
    {
     "name": "stdout",
     "output_type": "stream",
     "text": [
      "{'description': 'Онлайн медіа про українську сцену та музику, переважно андеграунд. Новини, анонси, рецензії та тематичні публікації, аналітика, ретроспективи, довідник по жанрах.', 'language': 'uk', 'source': 'https://www.neformat.com.ua/articles/darkfolk-in-ukraine.html', 'title': '10 знакових гуртів в українському дарк фолку  | neformat'}\n",
      "{'description': 'Онлайн медіа про українську сцену та музику, переважно андеграунд. Новини, анонси, рецензії та тематичні публікації, аналітика, ретроспективи, довідник по жанрах.', 'language': 'uk', 'source': 'https://www.neformat.com.ua/articles/darkfolk-in-ukraine.html', 'title': '10 знакових гуртів в українському дарк фолку  | neformat'}\n",
      "{'description': 'Онлайн медіа про українську сцену та музику, переважно андеграунд. Новини, анонси, рецензії та тематичні публікації, аналітика, ретроспективи, довідник по жанрах.', 'language': 'uk', 'source': 'https://www.neformat.com.ua/articles/darkfolk-in-ukraine.html', 'title': '10 знакових гуртів в українському дарк фолку  | neformat'}\n"
     ]
    }
   ],
   "source": [
    "question = \"Про що співає гурт Вій?\"\n",
    "\n",
    "docs = vectordb.similarity_search(\n",
    "    question,\n",
    "    k=3,\n",
    "    filter={\"source\":\"https://www.neformat.com.ua/articles/darkfolk-in-ukraine.html\"}\n",
    ")\n",
    "\n",
    "for d in docs:\n",
    "    print(d.metadata)"
   ]
  },
  {
   "cell_type": "markdown",
   "metadata": {
    "id": "V-HZoqH6LMWO"
   },
   "source": [
    "### **Addressing Specificity: working with metadata using self-query retriever**\n",
    "\n",
    "`SelfQueryRetriever`, which an LLM to extract:\n",
    "\n",
    "1. The `query` string to use for vector search\n",
    "2. A metadata filter to pass in as well"
   ]
  },
  {
   "cell_type": "code",
   "execution_count": 16,
   "metadata": {
    "id": "T9N7T3ExKp8L"
   },
   "outputs": [],
   "source": [
    "metadata_field_info = [\n",
    "    AttributeInfo(\n",
    "        name=\"source\",\n",
    "        description=\"Сайт, з якого повинен бути чанк, має бути або `https://www.neformat.com.ua/articles/darkfolk-in-ukraine.html` або `https://www.neformat.com.ua/articles/istoriya-ukrayinskogo-neofolku-v-kilkokh-slovakh.html`\",\n",
    "        type=\"string\",\n",
    "    )\n",
    "]"
   ]
  },
  {
   "cell_type": "code",
   "execution_count": 17,
   "metadata": {
    "colab": {
     "base_uri": "https://localhost:8080/"
    },
    "id": "vg1hdULILyy4",
    "outputId": "f297945f-1718-48c6-b9df-95a6377bc81d"
   },
   "outputs": [
    {
     "name": "stderr",
     "output_type": "stream",
     "text": [
      "/usr/local/lib/python3.10/dist-packages/langchain_core/_api/deprecation.py:117: LangChainDeprecationWarning: The class `langchain_community.llms.openai.OpenAI` was deprecated in langchain-community 0.0.10 and will be removed in 0.2.0. An updated version of the class exists in the langchain-openai package and should be used instead. To use it run `pip install -U langchain-openai` and import as `from langchain_openai import OpenAI`.\n",
      "  warn_deprecated(\n"
     ]
    }
   ],
   "source": [
    "document_content_description = \"Neformat texts\"\n",
    "\n",
    "llm = OpenAI(api_key = userdata.get('OPENAI_API_KEY'),\n",
    "             model='gpt-3.5-turbo-instruct',\n",
    "             temperature=0)\n",
    "\n",
    "retriever = SelfQueryRetriever.from_llm(\n",
    "    llm,\n",
    "    vectordb,\n",
    "    document_content_description,\n",
    "    metadata_field_info,\n",
    "    verbose=True\n",
    ")"
   ]
  },
  {
   "cell_type": "code",
   "execution_count": 20,
   "metadata": {
    "colab": {
     "base_uri": "https://localhost:8080/"
    },
    "id": "-ZlOUw_nL7Bn",
    "outputId": "bb6caa9d-df70-4e0d-9acb-4331105f973e"
   },
   "outputs": [
    {
     "name": "stdout",
     "output_type": "stream",
     "text": [
      "page_content='1991 року учасник готичного гурту «Баніта Байда» Дмитро Добрий-Вечір створив культову команду «Вій». Їхня похмура етніка, наповнена образами української демонології, язичницьким світобаченням і навколохристиянською рефлексією, стала провісником майбутньої появи більш «концентрованого» та яскраво' metadata={'description': 'Онлайн медіа про українську сцену та музику, переважно андеграунд. Новини, анонси, рецензії та тематичні публікації, аналітика, ретроспективи, довідник по жанрах.', 'language': 'uk', 'source': 'https://www.neformat.com.ua/articles/istoriya-ukrayinskogo-neofolku-v-kilkokh-slovakh.html', 'title': 'Історія українського неофолку в кількох словах  | neformat'}\n",
      "page_content='У 1991 році Дмитро Добрий-Вечір йде з Баніти Байди, щоби заснувати колектив Вій з Ігорем Лемешком і Олегом Козловим. До первинного складу входили: Дмитро Добрий-Вечір (бас-гітара, вокал), Ігор Лемешко (гітара), Олег Козлов (гітара), Юрій Мезенчук (ударні), Руслан Мелещенко (перкусія, конги) і' metadata={'description': 'Онлайн медіа про українську сцену та музику, переважно андеграунд. Новини, анонси, рецензії та тематичні публікації, аналітика, ретроспективи, довідник по жанрах.', 'language': 'uk', 'source': 'https://www.neformat.com.ua/articles/darkfolk-in-ukraine.html', 'title': '10 знакових гуртів в українському дарк фолку  | neformat'}\n",
      "page_content='Вежа Хмар — Ритуал' metadata={'description': 'Онлайн медіа про українську сцену та музику, переважно андеграунд. Новини, анонси, рецензії та тематичні публікації, аналітика, ретроспективи, довідник по жанрах.', 'language': 'uk', 'source': 'https://www.neformat.com.ua/articles/darkfolk-in-ukraine.html', 'title': '10 знакових гуртів в українському дарк фолку  | neformat'}\n",
      "page_content='Миколаївський аскетичний дарк фолк від Wiseword.Nidaros' metadata={'description': 'Онлайн медіа про українську сцену та музику, переважно андеграунд. Новини, анонси, рецензії та тематичні публікації, аналітика, ретроспективи, довідник по жанрах.', 'language': 'uk', 'source': 'https://www.neformat.com.ua/articles/indastrial-ta-ukrayina-istoriya-shcho-trivaie.html', 'title': 'Індастріал та Україна — історія, що триває | neformat'}\n"
     ]
    }
   ],
   "source": [
    "question = \"Хто такий Дмитро Добрий-Вечір?\"\n",
    "\n",
    "docs = retriever.get_relevant_documents(question)\n",
    "\n",
    "for d in docs:\n",
    "    print(d) # only two first documents have relevant information"
   ]
  },
  {
   "cell_type": "markdown",
   "metadata": {
    "id": "9ATzAkpdNlHP"
   },
   "source": [
    "**Q: Any additional tricks for document retrieval?**\n",
    "\n",
    "A: Compression: get most relevant info from the retrieved document (aves money when calling LLM)\n"
   ]
  },
  {
   "cell_type": "code",
   "execution_count": 22,
   "metadata": {
    "id": "eZI2SNXLNDCX"
   },
   "outputs": [],
   "source": [
    "def pretty_print_docs(docs):\n",
    "    print(f\"\\n{'-' * 100}\\n\".join([f\"Document {i+1}:\\n\\n\" + d.page_content for i, d in enumerate(docs)]))"
   ]
  },
  {
   "cell_type": "code",
   "execution_count": 23,
   "metadata": {
    "id": "C7WlIQ7XOUHv"
   },
   "outputs": [],
   "source": [
    "llm = OpenAI(api_key = userdata.get('OPENAI_API_KEY'),\n",
    "             temperature=0,\n",
    "             model=\"gpt-3.5-turbo-instruct\")\n",
    "\n",
    "compressor = LLMChainExtractor.from_llm(llm)\n",
    "\n",
    "compression_retriever = ContextualCompressionRetriever(\n",
    "    base_compressor=compressor,\n",
    "    base_retriever=vectordb.as_retriever()\n",
    ")"
   ]
  },
  {
   "cell_type": "code",
   "execution_count": 27,
   "metadata": {
    "colab": {
     "base_uri": "https://localhost:8080/"
    },
    "id": "5ekXTXzvOR_K",
    "outputId": "110c7ded-8c19-4d5f-df42-58b03df2dbfc"
   },
   "outputs": [
    {
     "name": "stdout",
     "output_type": "stream",
     "text": [
      "Document 1:\n",
      "\n",
      "Український дарк-фолк — звір, який з'явився на наших землях пізніше, ніж його британський побратим, і не став за тривалий час існування популярним. Усього можна виділити три хвилі розвитку цього музичного жанру, кожна з яких відповідала, як не дивно, десятиріччю.\n",
      "----------------------------------------------------------------------------------------------------\n",
      "Document 2:\n",
      "\n",
      "Одеський індустріальний даркфолк у кращих традиціях жанру Nекраїна є першою командою, яку згадують, коли мова заходить про український дарк фолк.\n",
      "----------------------------------------------------------------------------------------------------\n",
      "Document 3:\n",
      "\n",
      "Дмитро Ходико був ініціатором створення компіляції українського дарк-фолку \"Полинь квітне\"\n",
      "----------------------------------------------------------------------------------------------------\n",
      "Document 4:\n",
      "\n",
      "2005 року в житті українського неофолк-руху сталася знаменна подія. Вийшла збірка «Полин квітне».\n"
     ]
    }
   ],
   "source": [
    "question = \"Коли виник український фолк?\"\n",
    "compressed_docs = compression_retriever.get_relevant_documents(question)\n",
    "pretty_print_docs(compressed_docs)"
   ]
  },
  {
   "cell_type": "markdown",
   "metadata": {
    "id": "Aul7mbViPLur"
   },
   "source": [
    "### **Combining various techniques**"
   ]
  },
  {
   "cell_type": "code",
   "execution_count": 30,
   "metadata": {
    "colab": {
     "base_uri": "https://localhost:8080/"
    },
    "id": "NJKzkBC8OVav",
    "outputId": "84837735-1571-4246-f495-d3cb1e1adb05"
   },
   "outputs": [
    {
     "name": "stdout",
     "output_type": "stream",
     "text": [
      "Document 1:\n",
      "\n",
      "Чарський працював із Юрієм Шелеховим, Андрієм Чупруном і іншими запрошеними музикантами.\n",
      "----------------------------------------------------------------------------------------------------\n",
      "Document 2:\n",
      "\n",
      "Великій Британії\n"
     ]
    }
   ],
   "source": [
    "compression_retriever = ContextualCompressionRetriever(\n",
    "    base_compressor=compressor,\n",
    "    base_retriever=vectordb.as_retriever(search_type = \"mmr\")\n",
    ")\n",
    "\n",
    "question = \"З ким чи чим пов'язаний Чарський?\"\n",
    "compressed_docs = compression_retriever.get_relevant_documents(question)\n",
    "pretty_print_docs(compressed_docs)"
   ]
  },
  {
   "cell_type": "markdown",
   "metadata": {
    "id": "PR7pVVCePqxY"
   },
   "source": [
    "## **Other types of retrieval**"
   ]
  },
  {
   "cell_type": "code",
   "execution_count": 42,
   "metadata": {
    "id": "s5humfd6PWCd"
   },
   "outputs": [],
   "source": [
    "svm_retriever = SVMRetriever.from_texts(r_splitter.split_text(main_body[0].page_content), embedding)\n",
    "tfidf_retriever = TFIDFRetriever.from_texts(r_splitter.split_text(main_body[0].page_content))"
   ]
  },
  {
   "cell_type": "code",
   "execution_count": 44,
   "metadata": {
    "colab": {
     "base_uri": "https://localhost:8080/"
    },
    "id": "pl0XV6SRQU7Q",
    "outputId": "ff675c86-e5d5-4d37-baab-ea44242508e8"
   },
   "outputs": [
    {
     "data": {
      "text/plain": [
       "Document(page_content='Пі-Оррідж був вимушений переїхати до США.')"
      ]
     },
     "execution_count": 44,
     "metadata": {},
     "output_type": "execute_result"
    }
   ],
   "source": [
    "question = \"Що було сказано про неофолк?\"\n",
    "docs_svm=svm_retriever.get_relevant_documents(question) # not informative\n",
    "docs_svm[0]"
   ]
  },
  {
   "cell_type": "code",
   "execution_count": 45,
   "metadata": {
    "colab": {
     "base_uri": "https://localhost:8080/"
    },
    "id": "cI6MFD7-Qjul",
    "outputId": "601b7e5d-92d5-4776-9a7a-c73cffa3cdc3"
   },
   "outputs": [
    {
     "data": {
      "text/plain": [
       "Document(page_content='давно забутий (але якого насправді ніколи не було). Шумові екзерсиси Throbbing Gristle протиставлялися подібній \"музиці вчора\" як \"звук сьогоднішнього дня\", брязкіт механізму знищення та примусу, покликаний переломити уявлення слухачів про музику як про акомпанемент для хорошого проведення часу.')"
      ]
     },
     "execution_count": 45,
     "metadata": {},
     "output_type": "execute_result"
    }
   ],
   "source": [
    "question = \"Що було сказано про неофолк?\"\n",
    "docs_tfidf=tfidf_retriever.get_relevant_documents(question) # not informative\n",
    "docs_tfidf[0]"
   ]
  },
  {
   "cell_type": "markdown",
   "metadata": {
    "id": "yuHZwPX8YtuF"
   },
   "source": [
    "## **RetrievalQA chain**"
   ]
  },
  {
   "cell_type": "code",
   "execution_count": 47,
   "metadata": {
    "colab": {
     "base_uri": "https://localhost:8080/",
     "height": 108
    },
    "id": "bSUTGr_wTGXS",
    "outputId": "45f6b51b-fd95-47b0-e10a-2374e0d4e885"
   },
   "outputs": [
    {
     "name": "stderr",
     "output_type": "stream",
     "text": [
      "/usr/local/lib/python3.10/dist-packages/langchain_core/_api/deprecation.py:117: LangChainDeprecationWarning: The function `__call__` was deprecated in LangChain 0.1.0 and will be removed in 0.2.0. Use invoke instead.\n",
      "  warn_deprecated(\n"
     ]
    },
    {
     "data": {
      "application/vnd.google.colaboratory.intrinsic+json": {
       "type": "string"
      },
      "text/plain": [
       "' Український неофолк відомий своїми експериментами зі звуком та поєднанням традиційних українських мелодій з сучасними жанрами. Також, він відомий своїми соціально-політичними та філософськими текстами, які часто висвітлюють проблеми сучасного українського суспільства.'"
      ]
     },
     "execution_count": 47,
     "metadata": {},
     "output_type": "execute_result"
    }
   ],
   "source": [
    "qa_chain = RetrievalQA.from_chain_type(\n",
    "    llm,\n",
    "    retriever=vectordb.as_retriever()\n",
    ")\n",
    "\n",
    "result = qa_chain({\"query\": \"чим відомий український неофолк?\"})\n",
    "\n",
    "result[\"result\"]"
   ]
  },
  {
   "cell_type": "markdown",
   "metadata": {
    "id": "b4flaplpZF6S"
   },
   "source": [
    "## **Prompt**"
   ]
  },
  {
   "cell_type": "code",
   "execution_count": 48,
   "metadata": {
    "id": "26QSHtJUY7-Q"
   },
   "outputs": [],
   "source": [
    "template = \"\"\"Use the following pieces of context to answer the question at the end.\n",
    "If you don't know the answer, just say that you don't know, don't try to make up an answer.\n",
    "Use three sentences maximum. Keep the answer as concise as possible. At the end, encourage user\n",
    "to exmplore more about Ukrainian underground music and use Ukrainian language for this.\n",
    "{context}\n",
    "Question: {question}\n",
    "Helpful Answer:\"\"\"\n",
    "\n",
    "QA_CHAIN_PROMPT = PromptTemplate.from_template(template)\n",
    "\n",
    "qa_chain = RetrievalQA.from_chain_type(\n",
    "    llm,\n",
    "    retriever=vectordb.as_retriever(),\n",
    "    return_source_documents=True,\n",
    "    chain_type_kwargs={\"prompt\": QA_CHAIN_PROMPT}\n",
    ")"
   ]
  },
  {
   "cell_type": "code",
   "execution_count": 50,
   "metadata": {
    "colab": {
     "base_uri": "https://localhost:8080/"
    },
    "id": "nT00b5VVZopL",
    "outputId": "f0a861c5-6643-48be-c008-c88755c39a18"
   },
   "outputs": [
    {
     "name": "stdout",
     "output_type": "stream",
     "text": [
      " Так, у статті згадується про індастріал як напрямок в музиці, але сучасні індустріальні артисти можуть використовувати лише певні риси цього жанру і не враховувати його бекграунд. Для детальнішого вивчення індастріальної музики та її українських представників, рекомендуємо дослідити більше і використовувати українську мову.\n",
      "\n",
      "page_content='Такий довгий історичний екскурс був необхідний для того, щоб ґрунтовно описати концепцію індустріальної музики та проілюструвати індастріал у його найчистішому прояві. Сучасні індустріальні артисти, як правило, використовують лише певні риси цього жанру і лише певні елементи концепції.' metadata={'description': 'Онлайн медіа про українську сцену та музику, переважно андеграунд. Новини, анонси, рецензії та тематичні публікації, аналітика, ретроспективи, довідник по жанрах.', 'language': 'uk', 'source': 'https://www.neformat.com.ua/articles/indastrial-ta-ukrayina-istoriya-shcho-trivaie.html', 'title': 'Індастріал та Україна — історія, що триває | neformat'}\n"
     ]
    }
   ],
   "source": [
    "question = \"Чи згадується про індастріал як напрямок в музиці?\"\n",
    "\n",
    "result = qa_chain({\"query\": question})\n",
    "\n",
    "print(result[\"result\"], end=\"\\n\\n\") #encourages to use Ukrainian\n",
    "\n",
    "print(result[\"source_documents\"][0])"
   ]
  },
  {
   "cell_type": "markdown",
   "metadata": {
    "id": "dfHMd2WoanCq"
   },
   "source": [
    "## **RetrievalQA chain types**"
   ]
  },
  {
   "cell_type": "code",
   "execution_count": 51,
   "metadata": {
    "colab": {
     "base_uri": "https://localhost:8080/",
     "height": 36
    },
    "id": "sHPFFlLfZpLW",
    "outputId": "2a38615b-e91e-4b43-d935-8fb62fb1946e"
   },
   "outputs": [
    {
     "data": {
      "application/vnd.google.colaboratory.intrinsic+json": {
       "type": "string"
      },
      "text/plain": [
       "' Так, у тексті згадується про індастріал як напрямок в музиці.'"
      ]
     },
     "execution_count": 51,
     "metadata": {},
     "output_type": "execute_result"
    }
   ],
   "source": [
    "qa_chain_mr = RetrievalQA.from_chain_type(\n",
    "    llm,\n",
    "    retriever=vectordb.as_retriever(),\n",
    "    chain_type=\"map_reduce\"\n",
    ")\n",
    "\n",
    "result = qa_chain_mr({\"query\": question})\n",
    "\n",
    "result[\"result\"]"
   ]
  },
  {
   "cell_type": "code",
   "execution_count": 52,
   "metadata": {
    "colab": {
     "base_uri": "https://localhost:8080/",
     "height": 71
    },
    "id": "KriGA9_Uar8y",
    "outputId": "3468f54a-7f42-440a-e432-15f83cec3854"
   },
   "outputs": [
    {
     "data": {
      "application/vnd.google.colaboratory.intrinsic+json": {
       "type": "string"
      },
      "text/plain": [
       "\"\\n\\nТак, індастріал є одним з напрямків в музиці, який характеризується використанням промислових звуків та елементів, таких як машинні ритми, шуми та ефекти. Цей напрямок з'явився в кінці 1970-х років і до сьогодні залишається популярним серед шанувальників експериментальної та альтернативної музики. Індустріальна музика має свої витоки в експериментальній та авангардній музиці, а також в культурі промислового суспільства т\""
      ]
     },
     "execution_count": 52,
     "metadata": {},
     "output_type": "execute_result"
    }
   ],
   "source": [
    "qa_chain_mr = RetrievalQA.from_chain_type(\n",
    "    llm,\n",
    "    retriever=vectordb.as_retriever(),\n",
    "    chain_type=\"refine\"\n",
    ")\n",
    "result = qa_chain_mr({\"query\": question})\n",
    "result[\"result\"]"
   ]
  },
  {
   "cell_type": "markdown",
   "metadata": {
    "id": "L9Yo-Gc4bIUI"
   },
   "source": [
    "## **Limitations**"
   ]
  },
  {
   "cell_type": "code",
   "execution_count": 53,
   "metadata": {
    "colab": {
     "base_uri": "https://localhost:8080/"
    },
    "id": "TdFx2bwva9mt",
    "outputId": "1a534fc1-c892-4d77-e061-adb1d5f273c4"
   },
   "outputs": [
    {
     "name": "stderr",
     "output_type": "stream",
     "text": [
      "/usr/local/lib/python3.10/dist-packages/langchain_core/_api/deprecation.py:117: LangChainDeprecationWarning: The class `langchain_community.chat_models.openai.ChatOpenAI` was deprecated in langchain-community 0.0.10 and will be removed in 0.2.0. An updated version of the class exists in the langchain-openai package and should be used instead. To use it run `pip install -U langchain-openai` and import as `from langchain_openai import ChatOpenAI`.\n",
      "  warn_deprecated(\n"
     ]
    }
   ],
   "source": [
    "llm = ChatOpenAI(api_key = userdata.get('OPENAI_API_KEY'),\n",
    "                 model_name=\"gpt-3.5-turbo\",\n",
    "                 temperature=0)\n",
    "\n",
    "template = \"\"\"Use the following pieces of context to answer the question at the end.\n",
    "If you don't know the answer, just say that you don't know, don't try to make up an answer.\n",
    "Use three sentences maximum. Keep the answer as concise as possible. At the end, encourage user\n",
    "to exmplore more about Ukrainian underground music and use Ukrainian language for this.\n",
    "{context}\n",
    "Question: {question}\n",
    "Helpful Answer:\"\"\"\n",
    "\n",
    "QA_CHAIN_PROMPT = PromptTemplate(input_variables=[\"context\", \"question\"],template=template,)"
   ]
  },
  {
   "cell_type": "code",
   "execution_count": 54,
   "metadata": {
    "colab": {
     "base_uri": "https://localhost:8080/",
     "height": 53
    },
    "id": "OGTknCanbloa",
    "outputId": "eac69784-8b16-492b-f0a4-e4330cba207b"
   },
   "outputs": [
    {
     "data": {
      "application/vnd.google.colaboratory.intrinsic+json": {
       "type": "string"
      },
      "text/plain": [
       "'У піснях розповідаються історії про козаків, відьом, нещасливе кохання сільської дівчини та інших звичних архетипів. Гурт Вій та The Litz згадуються з Одеси. Шукайте більше української андеграундної музики та використовуйте українську мову для цього!'"
      ]
     },
     "execution_count": 54,
     "metadata": {},
     "output_type": "execute_result"
    }
   ],
   "source": [
    "question = \"Які гурти згадуються з Одеси?\"\n",
    "\n",
    "qa_chain = RetrievalQA.from_chain_type(llm,\n",
    "                                       retriever=vectordb.as_retriever(),\n",
    "                                       return_source_documents=True,\n",
    "                                       chain_type_kwargs={\"prompt\": QA_CHAIN_PROMPT})\n",
    "\n",
    "\n",
    "result = qa_chain({\"query\": question})\n",
    "result[\"result\"]"
   ]
  },
  {
   "cell_type": "code",
   "execution_count": 56,
   "metadata": {
    "colab": {
     "base_uri": "https://localhost:8080/",
     "height": 36
    },
    "id": "m0Psa_2DbuU9",
    "outputId": "aba22f8e-0cc8-4f47-dd42-44b1f22e16cd"
   },
   "outputs": [
    {
     "data": {
      "application/vnd.google.colaboratory.intrinsic+json": {
       "type": "string"
      },
      "text/plain": [
       "'Гурти Вій та The Litz походять з міста Львів.'"
      ]
     },
     "execution_count": 56,
     "metadata": {},
     "output_type": "execute_result"
    }
   ],
   "source": [
    "question = \"З якого міста гурти Вій та The Litz?\"\n",
    "\n",
    "result = qa_chain({\"query\": question})\n",
    "result[\"result\"] ## should be from Odesa based on the previous answer"
   ]
  },
  {
   "cell_type": "markdown",
   "metadata": {
    "id": "9NH5_ONscVPd"
   },
   "source": [
    "## **Memory**"
   ]
  },
  {
   "cell_type": "code",
   "execution_count": 58,
   "metadata": {
    "id": "DJ0USpB1cDi3"
   },
   "outputs": [],
   "source": [
    "retriever=vectordb.as_retriever()\n",
    "\n",
    "memory = ConversationBufferMemory(\n",
    "    memory_key=\"chat_history\",\n",
    "    return_messages=True\n",
    ")\n",
    "\n",
    "qa = ConversationalRetrievalChain.from_llm(\n",
    "    llm,\n",
    "    retriever=retriever,\n",
    "    memory=memory\n",
    ")"
   ]
  },
  {
   "cell_type": "code",
   "execution_count": 59,
   "metadata": {
    "colab": {
     "base_uri": "https://localhost:8080/",
     "height": 36
    },
    "id": "3_1sJK8fcX65",
    "outputId": "b4b6d5dc-937d-4da2-d780-88a7d77522d1"
   },
   "outputs": [
    {
     "data": {
      "application/vnd.google.colaboratory.intrinsic+json": {
       "type": "string"
      },
      "text/plain": [
       "'У наданих відомостях не згадується жоден конкретний гурт з Одеси. Тому, на жаль, я не можу вказати жодного гурту з Одеси, який був би згаданий у цьому контексті.'"
      ]
     },
     "execution_count": 59,
     "metadata": {},
     "output_type": "execute_result"
    }
   ],
   "source": [
    "question = \"Які гурти згадуються з Одеси?\"\n",
    "result = qa({\"question\": question})\n",
    "result[\"answer\"]"
   ]
  },
  {
   "cell_type": "code",
   "execution_count": 60,
   "metadata": {
    "colab": {
     "base_uri": "https://localhost:8080/",
     "height": 36
    },
    "id": "GpSfJlXDclRl",
    "outputId": "2b0f6d8f-bcfa-438a-b05c-1d480ec43d97"
   },
   "outputs": [
    {
     "data": {
      "application/vnd.google.colaboratory.intrinsic+json": {
       "type": "string"
      },
      "text/plain": [
       "'Так, гурт \"Nekраїна\" з Одеси був згаданий у цьому контексті як один із найвідоміших проектів першої хвилі українського дарк-фолку.'"
      ]
     },
     "execution_count": 60,
     "metadata": {},
     "output_type": "execute_result"
    }
   ],
   "source": [
    "question = \"Тобто, з Одеси немає жодного гурту?\"\n",
    "result = qa({\"question\": question})\n",
    "result[\"answer\"]"
   ]
  },
  {
   "cell_type": "markdown",
   "metadata": {},
   "source": [
    "Such a contradiction)))"
   ]
  },
  {
   "cell_type": "markdown",
   "metadata": {
    "id": "p2qF8ODCcveB"
   },
   "source": [
    "<img src=\"images/py33ke03f8241.png\" width=\"500\" height=\"250\">"
   ]
  },
  {
   "cell_type": "code",
   "execution_count": null,
   "metadata": {},
   "outputs": [],
   "source": []
  }
 ],
 "metadata": {
  "colab": {
   "provenance": []
  },
  "kernelspec": {
   "display_name": "Python 3 (ipykernel)",
   "language": "python",
   "name": "python3"
  },
  "language_info": {
   "codemirror_mode": {
    "name": "ipython",
    "version": 3
   },
   "file_extension": ".py",
   "mimetype": "text/x-python",
   "name": "python",
   "nbconvert_exporter": "python",
   "pygments_lexer": "ipython3",
   "version": "3.10.1"
  }
 },
 "nbformat": 4,
 "nbformat_minor": 1
}
